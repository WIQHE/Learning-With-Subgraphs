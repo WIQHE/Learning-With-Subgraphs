{
 "cells": [
  {
   "cell_type": "markdown",
   "metadata": {},
   "source": [
    "# BFS-Based Subgraph Extraction for Graph Classification\n",
    "\n",
    "This notebook demonstrates the BFS (Breadth-First Search) approach for subgraph extraction and weakly supervised learning on graphs using Graph Attention Networks (GAT)."
   ]
  },
  {
   "cell_type": "code",
   "execution_count": null,
   "metadata": {},
   "outputs": [],
   "source": [
    "# Import standard libraries\n",
    "import torch\n",
    "import torch_geometric.datasets as datasets\n",
    "from torch_geometric.loader import DataLoader\n",
    "from sklearn.metrics import classification_report\n",
    "import matplotlib.pyplot as plt\n",
    "import warnings\n",
    "\n",
    "# Import custom modules\n",
    "from utils import create_bfs_subgraphs, evaluate_with_attention\n",
    "from models import GAT, train_model\n",
    "from datasets import SubgraphDataset, create_dataset_splits\n",
    "from visualization import plot_confusion_matrix, evaluate_and_visualize_top_k\n",
    "\n",
    "warnings.filterwarnings('ignore')"
   ]
  },
  {
   "cell_type": "markdown",
   "metadata": {},
   "source": [
    "## Dataset Loading and Setup"
   ]
  },
  {
   "cell_type": "code",
   "execution_count": null,
   "metadata": {},
   "outputs": [],
   "source": [
    "# Load the MSRC_21 dataset\n",
    "DATASET_PATH = 'dataset'\n",
    "dataset = datasets.TUDataset(root=DATASET_PATH, name=\"MSRC_21\")\n",
    "\n",
    "print(f\"Dataset: {dataset}\")\n",
    "print(f\"Number of graphs: {len(dataset)}\")\n",
    "print(f\"Number of classes: {dataset.num_classes}\")\n",
    "print(f\"Number of node features: {dataset.num_node_features}\")"
   ]
  },
  {
   "cell_type": "markdown",
   "metadata": {},
   "source": [
    "## BFS Subgraph Creation and Dataset Preparation"
   ]
  },
  {
   "cell_type": "code",
   "execution_count": null,
   "metadata": {},
   "outputs": [],
   "source": [
    "# Create train/test splits\n",
    "train_graphs, test_graphs = create_dataset_splits(dataset, test_size=0.2, random_state=21)\n",
    "\n",
    "# BFS parameters\n",
    "bfs_params = {\n",
    "    'depth_limit': 8,\n",
    "    'min_nodes': 10,\n",
    "    'min_edges': 8\n",
    "}\n",
    "\n",
    "# Create subgraph datasets\n",
    "train_subgraph_dataset = SubgraphDataset(train_graphs, create_bfs_subgraphs, **bfs_params)\n",
    "test_subgraph_dataset = SubgraphDataset(test_graphs, create_bfs_subgraphs, **bfs_params)\n",
    "\n",
    "print(f\"Training subgraphs: {len(train_subgraph_dataset.data_list)}\")\n",
    "print(f\"Testing subgraphs: {len(test_subgraph_dataset.data_list)}\")\n",
    "\n",
    "# Create data loaders\n",
    "train_loader = DataLoader(train_subgraph_dataset.data_list, batch_size=32, shuffle=True)\n",
    "test_loader = DataLoader(test_subgraph_dataset.data_list, batch_size=32, shuffle=False)\n",
    "\n",
    "print(f\"Training batches: {len(train_loader)}\")\n",
    "print(f\"Testing batches: {len(test_loader)}\")"
   ]
  },
  {
   "cell_type": "markdown",
   "metadata": {},
   "source": [
    "## Model Setup and Training"
   ]
  },
  {
   "cell_type": "code",
   "execution_count": null,
   "metadata": {},
   "outputs": [],
   "source": [
    "# Model parameters\n",
    "device = torch.device('cuda' if torch.cuda.is_available() else 'cpu')\n",
    "print(f'Device: {device}')\n",
    "\n",
    "# Initialize GAT model\n",
    "model = GAT(\n",
    "    num_features=dataset.num_node_features,\n",
    "    num_classes=dataset.num_classes,\n",
    "    hidden_channels=64,\n",
    "    heads=8,\n",
    "    dropout=0.6\n",
    ").to(device)\n",
    "\n",
    "print(f\"Model: {model}\")\n",
    "\n",
    "# Setup optimizer and loss function\n",
    "optimizer = torch.optim.Adam(model.parameters(), lr=0.01)\n",
    "criterion = torch.nn.CrossEntropyLoss()"
   ]
  },
  {
   "cell_type": "code",
   "execution_count": null,
   "metadata": {},
   "outputs": [],
   "source": [
    "# Training loop\n",
    "num_epochs = 20\n",
    "train_losses = []\n",
    "train_accuracies = []\n",
    "\n",
    "print(\"Starting training...\")\n",
    "for epoch in range(num_epochs):\n",
    "    avg_loss, accuracy = train_model(model, train_loader, optimizer, device, criterion)\n",
    "    train_losses.append(avg_loss)\n",
    "    train_accuracies.append(accuracy)\n",
    "    \n",
    "    print(f'Epoch {epoch + 1}/{num_epochs}, Loss: {avg_loss:.4f}, Accuracy: {accuracy:.4f}')\n",
    "\n",
    "print(\"Training completed!\")"
   ]
  },
  {
   "cell_type": "markdown",
   "metadata": {},
   "source": [
    "## Evaluation with Attention-based Subgraph Selection"
   ]
  },
  {
   "cell_type": "code",
   "execution_count": null,
   "metadata": {},
   "outputs": [],
   "source": [
    "# Evaluate using attention-based top-k subgraph selection\n",
    "print(\"Evaluating with attention-based subgraph selection...\")\n",
    "\n",
    "accuracy, predictions, true_labels = evaluate_with_attention(\n",
    "    model=model,\n",
    "    dataset=test_graphs,\n",
    "    subgraph_func=create_bfs_subgraphs,\n",
    "    k=4,\n",
    "    device=device,\n",
    "    **bfs_params\n",
    ")\n",
    "\n",
    "print(f'Final Test Accuracy: {accuracy:.4f}')\n",
    "\n",
    "# Generate class names\n",
    "class_names = [f'Class {i}' for i in range(dataset.num_classes)]\n",
    "\n",
    "# Print classification report\n",
    "print(\"\\nClassification Report:\")\n",
    "print(classification_report(true_labels, predictions, target_names=class_names))"
   ]
  },
  {
   "cell_type": "markdown",
   "metadata": {},
   "source": [
    "## Results Visualization"
   ]
  },
  {
   "cell_type": "code",
   "execution_count": null,
   "metadata": {},
   "outputs": [],
   "source": [
    "# Plot confusion matrix\n",
    "plot_confusion_matrix(true_labels, predictions, class_names, \n",
    "                     title=\"BFS-based Subgraph Classification Results\")"
   ]
  },
  {
   "cell_type": "code",
   "execution_count": null,
   "metadata": {},
   "outputs": [],
   "source": [
    "# Plot training curves\n",
    "plt.figure(figsize=(12, 4))\n",
    "\n",
    "plt.subplot(1, 2, 1)\n",
    "plt.plot(range(1, num_epochs + 1), train_accuracies, 'b-', label='Training Accuracy')\n",
    "plt.xlabel('Epochs')\n",
    "plt.ylabel('Accuracy')\n",
    "plt.title('Training Accuracy')\n",
    "plt.legend()\n",
    "plt.grid(True)\n",
    "\n",
    "plt.subplot(1, 2, 2)\n",
    "plt.plot(range(1, num_epochs + 1), train_losses, 'r-', label='Training Loss')\n",
    "plt.xlabel('Epochs')\n",
    "plt.ylabel('Loss')\n",
    "plt.title('Training Loss')\n",
    "plt.legend()\n",
    "plt.grid(True)\n",
    "\n",
    "plt.tight_layout()\n",
    "plt.show()"
   ]
  },
  {
   "cell_type": "markdown",
   "metadata": {},
   "source": [
    "## Visualize Top-K Subgraph Selection"
   ]
  },
  {
   "cell_type": "code",
   "execution_count": null,
   "metadata": {},
   "outputs": [],
   "source": [
    "# Visualize attention-based subgraph selection for a sample graph\n",
    "print(\"Visualizing top-k subgraph selection...\")\n",
    "\n",
    "evaluate_and_visualize_top_k(\n",
    "    model=model,\n",
    "    dataset=test_graphs,\n",
    "    subgraph_func=create_bfs_subgraphs,\n",
    "    device=device,\n",
    "    k=3,\n",
    "    random_seed=42,\n",
    "    **bfs_params\n",
    ")"
   ]
  }
 ],
 "metadata": {
  "kernelspec": {
   "display_name": "Python 3",
   "language": "python",
   "name": "python3"
  },
  "language_info": {
   "codemirror_mode": {
    "name": "ipython",
    "version": 3
   },
   "file_extension": ".py",
   "mimetype": "text/x-python",
   "name": "python",
   "nbconvert_exporter": "python",
   "pygments_lexer": "ipython3",
   "version": "3.10.10"
  }
 },
 "nbformat": 4,
 "nbformat_minor": 2
}